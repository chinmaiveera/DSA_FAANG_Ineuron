{
  "nbformat": 4,
  "nbformat_minor": 0,
  "metadata": {
    "colab": {
      "provenance": [],
      "collapsed_sections": [],
      "authorship_tag": "ABX9TyOFXIR/3rtoWViPi/qn1fh+",
      "include_colab_link": true
    },
    "kernelspec": {
      "name": "python3",
      "display_name": "Python 3"
    },
    "language_info": {
      "name": "python"
    }
  },
  "cells": [
    {
      "cell_type": "markdown",
      "metadata": {
        "id": "view-in-github",
        "colab_type": "text"
      },
      "source": [
        "<a href=\"https://colab.research.google.com/github/chinmaiveera/DSA_FAANG_Ineuron/blob/main/assignment_11.ipynb\" target=\"_parent\"><img src=\"https://colab.research.google.com/assets/colab-badge.svg\" alt=\"Open In Colab\"/></a>"
      ]
    },
    {
      "cell_type": "code",
      "execution_count": 14,
      "metadata": {
        "colab": {
          "base_uri": "https://localhost:8080/"
        },
        "id": "ItU1FOOsIFAo",
        "outputId": "261d9888-14d4-497e-e551-138461a84aba"
      },
      "outputs": [
        {
          "output_type": "stream",
          "name": "stdout",
          "text": [
            "3\n",
            "3\n",
            "2\n"
          ]
        }
      ],
      "source": [
        "from collections import deque \n",
        "class MyStack:\n",
        "\n",
        "    def __init__(self):\n",
        "        #the two queues we are gonna use to implement stack\n",
        "        self.q1 = deque()\n",
        "        self.q2 = deque()\n",
        "        \n",
        "    # this function push element to the stack by pushing the element x in to queue that is not empty and change topelement to x\n",
        "    def push(self, x: int) -> None:\n",
        "        if(len(self.q1)):\n",
        "            self.q1.append(x)\n",
        "        else:\n",
        "            self.q2.append(x)\n",
        "  \n",
        "\n",
        "    #this function pop element from stack by pushing all the elements from non-empty queue to empty queue except last element and return that last element.    \n",
        "    def pop(self) -> int:\n",
        "        if(self.empty()):\n",
        "            return None;\n",
        "        #if q2 is non-empty make q2 as first queue\n",
        "        if(len(self.q2)):\n",
        "            self.q1 , self.q2 = self.q2 , self.q1 \n",
        "            return self.pop()\n",
        "        #pushing all the elements from first queue to second queue till length is 1\n",
        "        while(len(self.q1) > 1):\n",
        "            self.q2.append(self.q1.popleft())  \n",
        "        #return leftover element in first queue    \n",
        "        return self.q1.popleft() \n",
        "\n",
        "\n",
        "        #this function returns the top of stack.\n",
        "    def top(self) -> int:\n",
        "        if(len(self.q1)):\n",
        "          return self.q1[-1]\n",
        "        elif(len(self.q2)):\n",
        "          return self.q2[-1]\n",
        "        else:\n",
        "          None     \n",
        "        #this function returns true if stack is empty else false\n",
        "    def empty(self) -> bool:\n",
        "        return not(len(self.q1) or len(self.q2))\n",
        "        \n",
        "stk = MyStack()\n",
        "\n",
        "stk.push(1)\n",
        "stk.push(2)\n",
        "stk.push(3)\n",
        "print(stk.top())\n",
        "print(stk.pop())\n",
        "print(stk.top())\n",
        "\n"
      ]
    },
    {
      "cell_type": "markdown",
      "source": [
        "**Time Complexity( Implement Stack using Queues):**\n",
        "\n",
        "*for pop:*\n",
        "Here we are moving the whole queue to find the top.So, O(n) where n is size of stack.\n",
        "\n",
        "*for push:*\n",
        "here we are adding an element to queue.So, O(1).\n",
        "\n",
        "*for finding top:*\n",
        "O(1)\n",
        "\n",
        "*check if empty:* \n",
        "O(1)\n",
        "\n"
      ],
      "metadata": {
        "id": "NOkPDuQ_Tmo3"
      }
    },
    {
      "cell_type": "code",
      "source": [
        "class MyQueue:\n",
        "\n",
        "    def __init__(self):\n",
        "      #we are initializing two stacks i.e pushstk and popstk\n",
        "        self.pushstk = deque()\n",
        "        self.popstk = deque()\n",
        "\n",
        "    def enqueue(self, x: int) -> None:\n",
        "      #to enqueue push x to pushstk\n",
        "        self.pushstk.append(x)\n",
        "\n",
        "    def dequeue(self) -> int:\n",
        "      #to dequeue pop from popstk if popstk is empty pop all elements from pushstk and push them to popstk. Then,pop from popstk.\n",
        "        if(self.empty()):\n",
        "            return None\n",
        "        if(len(self.popstk)):\n",
        "            return self.popstk.pop()\n",
        "        while(len(self.pushstk)):\n",
        "            self.popstk.append(self.pushstk.pop())\n",
        "        return self.popstk.pop()\n",
        "        \n",
        "\n",
        "    def peek(self) -> int:\n",
        "        if(self.empty()):\n",
        "            return None\n",
        "        #perform dequeue but add back the popped element to popstk and return top of popstk.\n",
        "        self.popstk.append(self.dequeue())\n",
        "        return self.popstk[-1]\n",
        "    def empty(self) -> bool:\n",
        "        return not(len(self.popstk) or len(self.pushstk))\n",
        "        \n",
        "que = MyQueue()\n",
        "que.enqueue(1)\n",
        "que.enqueue(2)\n",
        "que.enqueue(3)\n",
        "print(que.peek())\n",
        "print(que.dequeue())\n",
        "print(que.peek())\n"
      ],
      "metadata": {
        "colab": {
          "base_uri": "https://localhost:8080/"
        },
        "id": "TcXm83srJG_C",
        "outputId": "27904fb9-ca6c-4fb1-9cbd-bb5e8d91e644"
      },
      "execution_count": 13,
      "outputs": [
        {
          "output_type": "stream",
          "name": "stdout",
          "text": [
            "1\n",
            "1\n",
            "2\n"
          ]
        }
      ]
    },
    {
      "cell_type": "markdown",
      "source": [
        "**Time Complexity(Implement Queue using Stacks):**\n",
        "\n",
        "*for enqueue:*\n",
        "O(1)\n",
        "\n",
        "*for dequeue:*\n",
        "\n",
        "Best case:O(1),If popstk is not empty.\n",
        "\n",
        "worst case:O(n), where n is size of queue. If popstk is empty we have to pull all elements from pushstk i.e current size of queue.\n",
        "\n",
        "*for peek:*same as dequeue\n"
      ],
      "metadata": {
        "id": "p6R0XM5f-kcI"
      }
    }
  ]
}